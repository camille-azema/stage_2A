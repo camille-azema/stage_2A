{
 "cells": [
  {
   "cell_type": "markdown",
   "metadata": {},
   "source": [
    "### Packages installation"
   ]
  },
  {
   "cell_type": "code",
   "execution_count": 2,
   "metadata": {},
   "outputs": [],
   "source": [
    "import pandas as pd\n",
    "import numpy as np\n",
    "from scipy.integrate import odeint, solve_ivp\n",
    "from lmfit import minimize, Parameters, report_fit, Minimizer\n",
    "import matplotlib.pyplot as plt"
   ]
  },
  {
   "cell_type": "markdown",
   "metadata": {},
   "source": [
    "#### Importation des données"
   ]
  },
  {
   "cell_type": "code",
   "execution_count": 3,
   "metadata": {},
   "outputs": [
    {
     "name": "stdout",
     "output_type": "stream",
     "text": [
      "Feuilles de calcul disponibles : ['Feuille 1', 'Feuille 2', 'Feuille 3']\n"
     ]
    }
   ],
   "source": [
    "file_path1 = (r'\\Users\\camil\\Documents\\IMT\\2A\\Stage_ingénierie\\Notebook\\Kon_16-04-2024_1.xlsx')\n",
    "# Charger toutes les feuilles de calcul dans un dictionnaire de DataFrames\n",
    "xls = pd.ExcelFile(file_path1)\n",
    "\n",
    "# Afficher les noms des feuilles de calcul disponibles\n",
    "print(\"Feuilles de calcul disponibles :\", xls.sheet_names)\n",
    "\n",
    "# Lire une feuille spécifique \n",
    "df = pd.read_excel(file_path1, sheet_name='Feuille 2')"
   ]
  },
  {
   "cell_type": "code",
   "execution_count": 4,
   "metadata": {},
   "outputs": [],
   "source": [
    "t = df['Time points (min)'].values\n",
    "data = df['Luminescence ligne 1'].values\n",
    "data2 = df['Luminescence ligne 2'].values\n",
    "data3 = df['Luminescence ligne 3'].values\n",
    "data4 = df['Luminescence ligne 4'].values\n",
    "data5 = df['Luminescence ligne 5'].values\n",
    "data6 = df['Luminescence ligne 6'].values\n",
    "data7 = df['Luminescence ligne 7'].values\n",
    "data8 = df['Luminescence ligne 8'].values"
   ]
  },
  {
   "cell_type": "code",
   "execution_count": 6,
   "metadata": {},
   "outputs": [
    {
     "name": "stdout",
     "output_type": "stream",
     "text": [
      "Feuilles de calcul disponibles : ['Feuille 1', 'Feuille 2', 'Feuille 3']\n"
     ]
    }
   ],
   "source": [
    "file_path2 = (r'\\Users\\camil\\Documents\\IMT\\2A\\Stage_ingénierie\\Notebook\\Kon_18-04-2024.xlsx')\n",
    "# Charger toutes les feuilles de calcul dans un dictionnaire de DataFrames\n",
    "xls_1 = pd.ExcelFile(file_path2)\n",
    "\n",
    "# Afficher les noms des feuilles de calcul disponibles\n",
    "print(\"Feuilles de calcul disponibles :\", xls_1.sheet_names)\n",
    "\n",
    "# Lire une feuille spécifique \n",
    "df_1 = pd.read_excel(file_path2, sheet_name='Feuille 1')"
   ]
  },
  {
   "cell_type": "code",
   "execution_count": 7,
   "metadata": {},
   "outputs": [],
   "source": [
    "t = df_1['Time points (min)'].values\n",
    "dt = df_1['Luminescence ligne 1'].values\n",
    "dt2 = df_1['Luminescence ligne 2'].values\n",
    "dt3 = df_1['Luminescence ligne 3'].values\n",
    "dt4 = df_1['Luminescence ligne 4'].values\n",
    "dt5 = df_1['Luminescence ligne 5'].values\n",
    "dt6 = df_1['Luminescence ligne 6'].values\n",
    "dt7 = df['Luminescence ligne 7'].values\n",
    "dt8 = df['Luminescence ligne 8'].values"
   ]
  },
  {
   "cell_type": "markdown",
   "metadata": {},
   "source": [
    "#### Normalisation des données"
   ]
  },
  {
   "cell_type": "code",
   "execution_count": 8,
   "metadata": {},
   "outputs": [],
   "source": [
    "data_norm = (dt - np.min(dt)) / (np.max(dt) - np.min(dt))\n",
    "data_norm2 = (dt2 - np.min(dt2)) / (np.max(dt2) - np.min(dt2))\n",
    "data_norm3 = (dt3 - np.min(dt3)) / (np.max(dt3) - np.min(dt3))\n",
    "data_norm4 = (dt4 - np.min(dt4)) / (np.max(dt4) - np.min(dt4))\n",
    "data_norm5 = (dt5 - np.min(dt5)) / (np.max(dt5) - np.min(dt5))\n",
    "data_norm6 = (dt6 - np.min(dt6)) / (np.max(dt6) - np.min(dt6))\n",
    "data_norm7 = (dt7 - np.min(dt7)) / (np.max(dt7) - np.min(dt7))\n",
    "data_norm8 = (dt8 - np.min(dt8)) / (np.max(dt8) - np.min(dt8))"
   ]
  },
  {
   "cell_type": "markdown",
   "metadata": {},
   "source": [
    "#### Conservation de la masse"
   ]
  },
  {
   "cell_type": "code",
   "execution_count": 9,
   "metadata": {},
   "outputs": [],
   "source": [
    "def check_mass_conservation(A, B, C, A0, B0, rtol=1e-6):\n",
    "    initial_mass = A0 + B0\n",
    "    current_mass = A + B + C\n",
    "    if not np.isclose(initial_mass, current_mass, rtol=rtol):\n",
    "        raise ValueError(f\"Mass not conserved. Difference: {initial_mass - current_mass}\")"
   ]
  },
  {
   "cell_type": "markdown",
   "metadata": {},
   "source": [
    "##### Système d'équations différentielles à résoudre"
   ]
  },
  {
   "cell_type": "code",
   "execution_count": 10,
   "metadata": {},
   "outputs": [],
   "source": [
    "def model(t, y, params):\n",
    "    A0 = params['A0'].value\n",
    "    B0 = params['B0'].value\n",
    "    kon = params['kon'].value\n",
    "    koff = params['koff'].value\n",
    "\n",
    "    print(f\"y = {y}\")\n",
    "    # A concentration du en anti corps, B concentration en anti gene et C concentration du complexe\n",
    "    A,B,C = y\n",
    "\n",
    "    check_mass_conservation(A, B, C, A0, B0)\n",
    "\n",
    "    # Cinétique de liaison des AC et AG\n",
    "    dAdt = -kon * A * B + koff * C\n",
    "    dBdt = -kon * A * B + koff * C\n",
    "    dCdt = kon * A * B - koff * C \n",
    "\n",
    "    return [dAdt, dBdt, dCdt]\n"
   ]
  },
  {
   "cell_type": "markdown",
   "metadata": {},
   "source": [
    "##### Modèle résolution EDO"
   ]
  },
  {
   "cell_type": "code",
   "execution_count": 11,
   "metadata": {},
   "outputs": [],
   "source": [
    "def solve_model(t, params):\n",
    "    A0 = params['A0'].value\n",
    "    B0 = params['B0'].value\n",
    "    y0 = [A0, B0, 0]\n",
    "\n",
    "    sol = solve_ivp(lambda t, y: model(t, y, params), [t[0], t[-1]], y0, \n",
    "                    t_eval=t, method='Radau', rtol=1e-9, atol=1e-9)\n",
    "    \n",
    "    if not sol.success:\n",
    "        raise RuntimeError(f\"solve_ivp failed: {sol.message}\")\n",
    "    \n",
    "    return sol.y.T"
   ]
  },
  {
   "cell_type": "code",
   "execution_count": 58,
   "metadata": {},
   "outputs": [
    {
     "data": {
      "text/plain": [
       "'def ru_model(t, params):\\n    A0 = params[\\'A0\\'].value\\n    B0 = params[\\'B0\\'].value\\n    alpha = params[\\'alpha\\'].value\\n    beta = params[\\'beta\\'].value\\n    y0 = [A0, B0, 0]\\n\\n    sol = solve_ivp(lambda t, y: model(t, y, params), [t[0], t[-1]], y0, t_eval=t, method=\\'BDF\\', rtol=1e-6, atol=1e-6)\\n    # Transposée\\n    solution = sol.y.T\\n    \\n    if not sol.success:\\n        print(f\"solve_ivp failed: {sol.message}\")\\n        return np.full((len(t), 3), np.nan)\\n    \\n    print(\"La solution du modèle est : \\n\", solution[:,2])\\n\\n    return solution'"
      ]
     },
     "execution_count": 58,
     "metadata": {},
     "output_type": "execute_result"
    }
   ],
   "source": [
    "'''def ru_model(t, params):\n",
    "    A0 = params['A0'].value\n",
    "    B0 = params['B0'].value\n",
    "    alpha = params['alpha'].value\n",
    "    beta = params['beta'].value\n",
    "    y0 = [A0, B0, 0]\n",
    "\n",
    "    sol = solve_ivp(lambda t, y: model(t, y, params), [t[0], t[-1]], y0, t_eval=t, method='BDF', rtol=1e-6, atol=1e-6)\n",
    "    # Transposée\n",
    "    solution = sol.y.T\n",
    "    \n",
    "    if not sol.success:\n",
    "        print(f\"solve_ivp failed: {sol.message}\")\n",
    "        return np.full((len(t), 3), np.nan)\n",
    "    \n",
    "    print(\"La solution du modèle est : \\n\", solution[:,2])\n",
    "\n",
    "    return solution'''\n"
   ]
  },
  {
   "cell_type": "markdown",
   "metadata": {},
   "source": [
    "##### Résidu"
   ]
  },
  {
   "cell_type": "code",
   "execution_count": 12,
   "metadata": {},
   "outputs": [],
   "source": [
    "def residu(params, t, data):\n",
    "    try:\n",
    "        model_values = solve_model(t, params)[:, 2]  # On prend la concentration du complexe C\n",
    "        return (model_values - data_norm) # On compare avec les données normalisées\n",
    "    except Exception as e:\n",
    "        print(f\"Error in residual function: {str(e)}\")\n",
    "        return np.full_like(data_norm, np.inf)"
   ]
  },
  {
   "cell_type": "code",
   "execution_count": 60,
   "metadata": {},
   "outputs": [
    {
     "data": {
      "text/plain": [
       "'def residu(params, t, data):\\n    model_values = ru_model(t, params)[:,2]\\n\\n    if np.isnan(model_values).any():\\n        print(\"NaN detected in model values\")\\n        return np.full_like(data, np.inf) \\n    \\n    if model_values.shape != data.shape:\\n        print(f\"Shape mismatch: model_values shape is {model_values.shape}, data shape is {data.shape}\")\\n        return np.full_like(data, np.inf)\\n        \\n    return (model_values - data)'"
      ]
     },
     "execution_count": 60,
     "metadata": {},
     "output_type": "execute_result"
    }
   ],
   "source": [
    "'''def residu(params, t, data):\n",
    "    model_values = ru_model(t, params)[:,2]\n",
    "\n",
    "    if np.isnan(model_values).any():\n",
    "        print(\"NaN detected in model values\")\n",
    "        return np.full_like(data, np.inf) \n",
    "    \n",
    "    if model_values.shape != data.shape:\n",
    "        print(f\"Shape mismatch: model_values shape is {model_values.shape}, data shape is {data.shape}\")\n",
    "        return np.full_like(data, np.inf)\n",
    "        \n",
    "    return (model_values - data)'''\n",
    "\n"
   ]
  },
  {
   "cell_type": "markdown",
   "metadata": {},
   "source": [
    "##### Paramètres initiaux"
   ]
  },
  {
   "cell_type": "code",
   "execution_count": 13,
   "metadata": {},
   "outputs": [],
   "source": [
    "params = Parameters()\n",
    "params.add('alpha', value=1e3, min=0, max=1e5)\n",
    "params.add('beta', value=1, min=0, max=1e2)\n",
    "params.add('kon', value=1e5, min=1e3, max=1e7, vary= True)  \n",
    "params.add('koff', value=1e-2, min=1e-4, max=1, vary= True)  \n",
    "params.add('A0', value=2e-5, min=1e-9, max=1e-4, vary= True)  \n",
    "params.add('B0', value=3e-6, min=1e-9, max=1e-4, vary= True)  "
   ]
  },
  {
   "cell_type": "code",
   "execution_count": 14,
   "metadata": {},
   "outputs": [
    {
     "name": "stdout",
     "output_type": "stream",
     "text": [
      "y = [2.e-05 3.e-06 0.e+00]\n",
      "y = [ 2.01167605e-05  3.11676047e-06 -1.16760470e-07]\n",
      "Error in residual function: Mass not conserved. Difference: -1.1676046955145651e-07\n",
      "Une erreur s'est produite pendant l'optimisation : NaN values detected in your input data or the output of your objective/model function - fitting algorithms cannot handle this! Please read https://lmfit.github.io/lmfit-py/faq.html#i-get-errors-from-nan-in-my-fit-what-can-i-do for more information.\n"
     ]
    }
   ],
   "source": [
    "# Optimisation\n",
    "try:\n",
    "    result = minimize(residu, params, args=(t, data_norm), method='leastsq', max_nfev=1000)\n",
    "    print(report_fit(result))\n",
    "    \n",
    "    if result.success:\n",
    "        print(\"Optimisation réussie.\")\n",
    "        fitted_values = solve_model(t, result.params)[:, 2]\n",
    "        \n",
    "        # Dénormaliser les valeurs ajustées\n",
    "        fitted_values = fitted_values * (np.max(dt) - np.min(dt)) + np.min(dt)\n",
    "        \n",
    "        # Ici, vous pouvez ajouter du code pour tracer les résultats\n",
    "        # import matplotlib.pyplot as plt\n",
    "        plt.plot(t, dt, 'o', label='Données')\n",
    "        plt.plot(t, fitted_values, '-', label='Modèle ajusté')\n",
    "        plt.legend()\n",
    "        plt.show()\n",
    "    else:\n",
    "        print(\"L'optimisation a échoué.\")\n",
    "except Exception as e:\n",
    "    print(f\"Une erreur s'est produite pendant l'optimisation : {str(e)}\")"
   ]
  },
  {
   "cell_type": "code",
   "execution_count": 63,
   "metadata": {},
   "outputs": [
    {
     "data": {
      "text/plain": [
       "'# Exécution de l\\'optimisation\\nminimizer = Minimizer(residu, params, fcn_args=(t, data3))\\nresult = minimizer.minimize(method=\\'trust_exact\\')\\n\\n# Vérification du succès de l\\'optimisation\\nprint(f\"Optimization success: {result.success}\")\\nif result.success:\\n    print(\"Optimization successful.\")\\nelse:\\n    print(\"Optimization failed.\")\\n\\nprint(report_fit(result))\\nfitted_ru = ru_model(t, result.params)'"
      ]
     },
     "execution_count": 63,
     "metadata": {},
     "output_type": "execute_result"
    }
   ],
   "source": [
    "'''# Exécution de l'optimisation\n",
    "minimizer = Minimizer(residu, params, fcn_args=(t, data3))\n",
    "result = minimizer.minimize(method='trust_exact')\n",
    "\n",
    "# Vérification du succès de l'optimisation\n",
    "print(f\"Optimization success: {result.success}\")\n",
    "if result.success:\n",
    "    print(\"Optimization successful.\")\n",
    "else:\n",
    "    print(\"Optimization failed.\")\n",
    "\n",
    "print(report_fit(result))\n",
    "fitted_ru = ru_model(t, result.params)'''\n"
   ]
  },
  {
   "cell_type": "code",
   "execution_count": 71,
   "metadata": {},
   "outputs": [
    {
     "name": "stdout",
     "output_type": "stream",
     "text": [
      "y = [2.e-05 3.e-06 0.e+00]\n",
      "y = [ 2.01167605e-05  3.11676047e-06 -1.16760470e-07]\n"
     ]
    },
    {
     "ename": "ValueError",
     "evalue": "Mass not conserved. Difference: -1.1676046955145651e-07",
     "output_type": "error",
     "traceback": [
      "\u001b[1;31m---------------------------------------------------------------------------\u001b[0m",
      "\u001b[1;31mValueError\u001b[0m                                Traceback (most recent call last)",
      "Cell \u001b[1;32mIn[71], line 25\u001b[0m\n\u001b[0;32m     23\u001b[0m \u001b[38;5;66;03m# paramètre de variation de variable\u001b[39;00m\n\u001b[0;32m     24\u001b[0m vary_percent\u001b[38;5;241m=\u001b[39m \u001b[38;5;241m10\u001b[39m\n\u001b[1;32m---> 25\u001b[0m sensitivities \u001b[38;5;241m=\u001b[39m analyze_sensitivity(result\u001b[38;5;241m.\u001b[39mparams, t, data3, vary_percent)\n\u001b[0;32m     28\u001b[0m plt\u001b[38;5;241m.\u001b[39mfigure(figsize\u001b[38;5;241m=\u001b[39m(\u001b[38;5;241m10\u001b[39m, \u001b[38;5;241m6\u001b[39m))\n\u001b[0;32m     29\u001b[0m plt\u001b[38;5;241m.\u001b[39mbar(sensitivities\u001b[38;5;241m.\u001b[39mkeys(), sensitivities\u001b[38;5;241m.\u001b[39mvalues())\n",
      "Cell \u001b[1;32mIn[71], line 3\u001b[0m, in \u001b[0;36manalyze_sensitivity\u001b[1;34m(params, t, data, vary_percent)\u001b[0m\n\u001b[0;32m      1\u001b[0m \u001b[38;5;28;01mdef\u001b[39;00m \u001b[38;5;21manalyze_sensitivity\u001b[39m(params, t, data, vary_percent):\n\u001b[0;32m      2\u001b[0m     \u001b[38;5;66;03m# Erreur quadratique \u001b[39;00m\n\u001b[1;32m----> 3\u001b[0m     base_model \u001b[38;5;241m=\u001b[39mru_model(t, params)[:,\u001b[38;5;241m2\u001b[39m]\n\u001b[0;32m      4\u001b[0m     base_residual \u001b[38;5;241m=\u001b[39m np\u001b[38;5;241m.\u001b[39msum((base_model \u001b[38;5;241m-\u001b[39m data)\u001b[38;5;241m*\u001b[39m\u001b[38;5;241m*\u001b[39m\u001b[38;5;241m2\u001b[39m)\n\u001b[0;32m      5\u001b[0m     \u001b[38;5;66;03m# Création d'un dictionnaire pour stocker les valeurs de sensibilité pour chaque variable\u001b[39;00m\n",
      "Cell \u001b[1;32mIn[16], line 8\u001b[0m, in \u001b[0;36mru_model\u001b[1;34m(t, params)\u001b[0m\n\u001b[0;32m      4\u001b[0m \u001b[38;5;66;03m#alpha = params['alpha'].value\u001b[39;00m\n\u001b[0;32m      5\u001b[0m \u001b[38;5;66;03m#beta = params['beta'].value\u001b[39;00m\n\u001b[0;32m      6\u001b[0m y0 \u001b[38;5;241m=\u001b[39m [A0, B0, \u001b[38;5;241m0\u001b[39m]\n\u001b[1;32m----> 8\u001b[0m sol \u001b[38;5;241m=\u001b[39m solve_ivp(\u001b[38;5;28;01mlambda\u001b[39;00m t, y: model(t, y, params), [t[\u001b[38;5;241m0\u001b[39m], t[\u001b[38;5;241m-\u001b[39m\u001b[38;5;241m1\u001b[39m]], y0, t_eval\u001b[38;5;241m=\u001b[39mt, method\u001b[38;5;241m=\u001b[39m\u001b[38;5;124m'\u001b[39m\u001b[38;5;124mBDF\u001b[39m\u001b[38;5;124m'\u001b[39m, rtol\u001b[38;5;241m=\u001b[39m\u001b[38;5;241m1e-6\u001b[39m, atol\u001b[38;5;241m=\u001b[39m\u001b[38;5;241m1e-6\u001b[39m)\n\u001b[0;32m      9\u001b[0m \u001b[38;5;66;03m# Transposée\u001b[39;00m\n\u001b[0;32m     10\u001b[0m solution \u001b[38;5;241m=\u001b[39m sol\u001b[38;5;241m.\u001b[39my\u001b[38;5;241m.\u001b[39mT\n",
      "File \u001b[1;32mc:\\Users\\cazema\\AppData\\Local\\anaconda3\\Lib\\site-packages\\scipy\\integrate\\_ivp\\ivp.py:621\u001b[0m, in \u001b[0;36msolve_ivp\u001b[1;34m(fun, t_span, y0, method, t_eval, dense_output, events, vectorized, args, **options)\u001b[0m\n\u001b[0;32m    618\u001b[0m \u001b[38;5;28;01mif\u001b[39;00m method \u001b[38;5;129;01min\u001b[39;00m METHODS:\n\u001b[0;32m    619\u001b[0m     method \u001b[38;5;241m=\u001b[39m METHODS[method]\n\u001b[1;32m--> 621\u001b[0m solver \u001b[38;5;241m=\u001b[39m method(fun, t0, y0, tf, vectorized\u001b[38;5;241m=\u001b[39mvectorized, \u001b[38;5;241m*\u001b[39m\u001b[38;5;241m*\u001b[39moptions)\n\u001b[0;32m    623\u001b[0m \u001b[38;5;28;01mif\u001b[39;00m t_eval \u001b[38;5;129;01mis\u001b[39;00m \u001b[38;5;28;01mNone\u001b[39;00m:\n\u001b[0;32m    624\u001b[0m     ts \u001b[38;5;241m=\u001b[39m [t0]\n",
      "File \u001b[1;32mc:\\Users\\cazema\\AppData\\Local\\anaconda3\\Lib\\site-packages\\scipy\\integrate\\_ivp\\bdf.py:207\u001b[0m, in \u001b[0;36mBDF.__init__\u001b[1;34m(self, fun, t0, y0, t_bound, max_step, rtol, atol, jac, jac_sparsity, vectorized, first_step, **extraneous)\u001b[0m\n\u001b[0;32m    205\u001b[0m f \u001b[38;5;241m=\u001b[39m \u001b[38;5;28mself\u001b[39m\u001b[38;5;241m.\u001b[39mfun(\u001b[38;5;28mself\u001b[39m\u001b[38;5;241m.\u001b[39mt, \u001b[38;5;28mself\u001b[39m\u001b[38;5;241m.\u001b[39my)\n\u001b[0;32m    206\u001b[0m \u001b[38;5;28;01mif\u001b[39;00m first_step \u001b[38;5;129;01mis\u001b[39;00m \u001b[38;5;28;01mNone\u001b[39;00m:\n\u001b[1;32m--> 207\u001b[0m     \u001b[38;5;28mself\u001b[39m\u001b[38;5;241m.\u001b[39mh_abs \u001b[38;5;241m=\u001b[39m select_initial_step(\u001b[38;5;28mself\u001b[39m\u001b[38;5;241m.\u001b[39mfun, \u001b[38;5;28mself\u001b[39m\u001b[38;5;241m.\u001b[39mt, \u001b[38;5;28mself\u001b[39m\u001b[38;5;241m.\u001b[39my, f,\n\u001b[0;32m    208\u001b[0m                                      \u001b[38;5;28mself\u001b[39m\u001b[38;5;241m.\u001b[39mdirection, \u001b[38;5;241m1\u001b[39m,\n\u001b[0;32m    209\u001b[0m                                      \u001b[38;5;28mself\u001b[39m\u001b[38;5;241m.\u001b[39mrtol, \u001b[38;5;28mself\u001b[39m\u001b[38;5;241m.\u001b[39matol)\n\u001b[0;32m    210\u001b[0m \u001b[38;5;28;01melse\u001b[39;00m:\n\u001b[0;32m    211\u001b[0m     \u001b[38;5;28mself\u001b[39m\u001b[38;5;241m.\u001b[39mh_abs \u001b[38;5;241m=\u001b[39m validate_first_step(first_step, t0, t_bound)\n",
      "File \u001b[1;32mc:\\Users\\cazema\\AppData\\Local\\anaconda3\\Lib\\site-packages\\scipy\\integrate\\_ivp\\common.py:115\u001b[0m, in \u001b[0;36mselect_initial_step\u001b[1;34m(fun, t0, y0, f0, direction, order, rtol, atol)\u001b[0m\n\u001b[0;32m    112\u001b[0m     h0 \u001b[38;5;241m=\u001b[39m \u001b[38;5;241m0.01\u001b[39m \u001b[38;5;241m*\u001b[39m d0 \u001b[38;5;241m/\u001b[39m d1\n\u001b[0;32m    114\u001b[0m y1 \u001b[38;5;241m=\u001b[39m y0 \u001b[38;5;241m+\u001b[39m h0 \u001b[38;5;241m*\u001b[39m direction \u001b[38;5;241m*\u001b[39m f0\n\u001b[1;32m--> 115\u001b[0m f1 \u001b[38;5;241m=\u001b[39m fun(t0 \u001b[38;5;241m+\u001b[39m h0 \u001b[38;5;241m*\u001b[39m direction, y1)\n\u001b[0;32m    116\u001b[0m d2 \u001b[38;5;241m=\u001b[39m norm((f1 \u001b[38;5;241m-\u001b[39m f0) \u001b[38;5;241m/\u001b[39m scale) \u001b[38;5;241m/\u001b[39m h0\n\u001b[0;32m    118\u001b[0m \u001b[38;5;28;01mif\u001b[39;00m d1 \u001b[38;5;241m<\u001b[39m\u001b[38;5;241m=\u001b[39m \u001b[38;5;241m1e-15\u001b[39m \u001b[38;5;129;01mand\u001b[39;00m d2 \u001b[38;5;241m<\u001b[39m\u001b[38;5;241m=\u001b[39m \u001b[38;5;241m1e-15\u001b[39m:\n",
      "File \u001b[1;32mc:\\Users\\cazema\\AppData\\Local\\anaconda3\\Lib\\site-packages\\scipy\\integrate\\_ivp\\base.py:154\u001b[0m, in \u001b[0;36mOdeSolver.__init__.<locals>.fun\u001b[1;34m(t, y)\u001b[0m\n\u001b[0;32m    152\u001b[0m \u001b[38;5;28;01mdef\u001b[39;00m \u001b[38;5;21mfun\u001b[39m(t, y):\n\u001b[0;32m    153\u001b[0m     \u001b[38;5;28mself\u001b[39m\u001b[38;5;241m.\u001b[39mnfev \u001b[38;5;241m+\u001b[39m\u001b[38;5;241m=\u001b[39m \u001b[38;5;241m1\u001b[39m\n\u001b[1;32m--> 154\u001b[0m     \u001b[38;5;28;01mreturn\u001b[39;00m \u001b[38;5;28mself\u001b[39m\u001b[38;5;241m.\u001b[39mfun_single(t, y)\n",
      "File \u001b[1;32mc:\\Users\\cazema\\AppData\\Local\\anaconda3\\Lib\\site-packages\\scipy\\integrate\\_ivp\\base.py:23\u001b[0m, in \u001b[0;36mcheck_arguments.<locals>.fun_wrapped\u001b[1;34m(t, y)\u001b[0m\n\u001b[0;32m     22\u001b[0m \u001b[38;5;28;01mdef\u001b[39;00m \u001b[38;5;21mfun_wrapped\u001b[39m(t, y):\n\u001b[1;32m---> 23\u001b[0m     \u001b[38;5;28;01mreturn\u001b[39;00m np\u001b[38;5;241m.\u001b[39masarray(fun(t, y), dtype\u001b[38;5;241m=\u001b[39mdtype)\n",
      "Cell \u001b[1;32mIn[16], line 8\u001b[0m, in \u001b[0;36mru_model.<locals>.<lambda>\u001b[1;34m(t, y)\u001b[0m\n\u001b[0;32m      4\u001b[0m \u001b[38;5;66;03m#alpha = params['alpha'].value\u001b[39;00m\n\u001b[0;32m      5\u001b[0m \u001b[38;5;66;03m#beta = params['beta'].value\u001b[39;00m\n\u001b[0;32m      6\u001b[0m y0 \u001b[38;5;241m=\u001b[39m [A0, B0, \u001b[38;5;241m0\u001b[39m]\n\u001b[1;32m----> 8\u001b[0m sol \u001b[38;5;241m=\u001b[39m solve_ivp(\u001b[38;5;28;01mlambda\u001b[39;00m t, y: model(t, y, params), [t[\u001b[38;5;241m0\u001b[39m], t[\u001b[38;5;241m-\u001b[39m\u001b[38;5;241m1\u001b[39m]], y0, t_eval\u001b[38;5;241m=\u001b[39mt, method\u001b[38;5;241m=\u001b[39m\u001b[38;5;124m'\u001b[39m\u001b[38;5;124mBDF\u001b[39m\u001b[38;5;124m'\u001b[39m, rtol\u001b[38;5;241m=\u001b[39m\u001b[38;5;241m1e-6\u001b[39m, atol\u001b[38;5;241m=\u001b[39m\u001b[38;5;241m1e-6\u001b[39m)\n\u001b[0;32m      9\u001b[0m \u001b[38;5;66;03m# Transposée\u001b[39;00m\n\u001b[0;32m     10\u001b[0m solution \u001b[38;5;241m=\u001b[39m sol\u001b[38;5;241m.\u001b[39my\u001b[38;5;241m.\u001b[39mT\n",
      "Cell \u001b[1;32mIn[66], line 11\u001b[0m, in \u001b[0;36mmodel\u001b[1;34m(t, y, params)\u001b[0m\n\u001b[0;32m      8\u001b[0m \u001b[38;5;66;03m# A concentration du en anti corps, B concentration en anti gene et C concentration du complexe\u001b[39;00m\n\u001b[0;32m      9\u001b[0m A,B,C \u001b[38;5;241m=\u001b[39m y\n\u001b[1;32m---> 11\u001b[0m check_mass_conservation(A, B, C, A0, B0)\n\u001b[0;32m     13\u001b[0m \u001b[38;5;66;03m# Cinétique de liaison des AC et AG\u001b[39;00m\n\u001b[0;32m     14\u001b[0m dAdt \u001b[38;5;241m=\u001b[39m \u001b[38;5;241m-\u001b[39mkon \u001b[38;5;241m*\u001b[39m A \u001b[38;5;241m*\u001b[39m B \u001b[38;5;241m+\u001b[39m koff \u001b[38;5;241m*\u001b[39m C\n",
      "Cell \u001b[1;32mIn[55], line 5\u001b[0m, in \u001b[0;36mcheck_mass_conservation\u001b[1;34m(A, B, C, A0, B0, rtol)\u001b[0m\n\u001b[0;32m      3\u001b[0m current_mass \u001b[38;5;241m=\u001b[39m A \u001b[38;5;241m+\u001b[39m B \u001b[38;5;241m+\u001b[39m C\n\u001b[0;32m      4\u001b[0m \u001b[38;5;28;01mif\u001b[39;00m \u001b[38;5;129;01mnot\u001b[39;00m np\u001b[38;5;241m.\u001b[39misclose(initial_mass, current_mass, rtol\u001b[38;5;241m=\u001b[39mrtol):\n\u001b[1;32m----> 5\u001b[0m     \u001b[38;5;28;01mraise\u001b[39;00m \u001b[38;5;167;01mValueError\u001b[39;00m(\u001b[38;5;124mf\u001b[39m\u001b[38;5;124m\"\u001b[39m\u001b[38;5;124mMass not conserved. Difference: \u001b[39m\u001b[38;5;132;01m{\u001b[39;00minitial_mass\u001b[38;5;250m \u001b[39m\u001b[38;5;241m-\u001b[39m\u001b[38;5;250m \u001b[39mcurrent_mass\u001b[38;5;132;01m}\u001b[39;00m\u001b[38;5;124m\"\u001b[39m)\n",
      "\u001b[1;31mValueError\u001b[0m: Mass not conserved. Difference: -1.1676046955145651e-07"
     ]
    }
   ],
   "source": [
    "def analyze_sensitivity(params, t, data, vary_percent):\n",
    "    # Erreur quadratique \n",
    "    base_model =ru_model(t, params)[:,2]\n",
    "    base_residual = np.sum((base_model - data)**2)\n",
    "    # Création d'un dictionnaire pour stocker les valeurs de sensibilité pour chaque variable\n",
    "    sensitivities = {}\n",
    "    \n",
    "    for name in params:\n",
    "        original_value = params[name].value\n",
    "        # Modifie la valeur du paramètre en l'augmentant de vary_percent pourcent par rapport à sa valeur initiale.\n",
    "        params[name].set(value=original_value * (1 + vary_percent/100))\n",
    "        # Mise à jour du nouveau résidu\n",
    "        new_model = ru_model(t, params)[:, 2]  # Utilise seulement la troisième colonne\n",
    "        new_residual = np.sum((new_model - data)**2)\n",
    "        # Calcul de la sensibilité relative\n",
    "        sensitivity = (new_residual - base_residual) / base_residual\n",
    "        # on affecte cette valeur à une variable\n",
    "        sensitivities[name] = sensitivity\n",
    "        params[name].set(value=original_value)  # Reset to original value\n",
    "        \n",
    "    return sensitivities\n",
    "\n",
    "# paramètre de variation de variable\n",
    "vary_percent= 10\n",
    "sensitivities = analyze_sensitivity(result.params, t, data3, vary_percent)\n",
    "\n",
    "\n",
    "plt.figure(figsize=(10, 6))\n",
    "plt.bar(sensitivities.keys(), sensitivities.values())\n",
    "plt.title('Analyse de sensibilité')\n",
    "plt.xlabel('Paramètres')\n",
    "plt.ylabel('Sensibilité relative')\n",
    "plt.show()"
   ]
  },
  {
   "cell_type": "markdown",
   "metadata": {},
   "source": [
    "##### Plots"
   ]
  },
  {
   "cell_type": "code",
   "execution_count": 72,
   "metadata": {},
   "outputs": [
    {
     "data": {
      "image/png": "[encoded data removed]",
      "text/plain": [
       "<Figure size 1000x600 with 1 Axes>"
      ]
     },
     "metadata": {},
     "output_type": "display_data"
    }
   ],
   "source": [
    "total_mass = fitted_ru[:, 0] + fitted_ru[:, 1] + fitted_ru[:, 2]\n",
    "\n",
    "plt.figure(figsize=(10,6))\n",
    "#plt.plot(t,data2, 'o', label='Données expérimentales de fluorescence(RU)')\n",
    "plt.plot(t, total_mass, 'b', label ='Conservation de la masse')\n",
    "plt.plot(t, fitted_ru[:, 0], 'r', label='A (Anticorps)')\n",
    "plt.plot(t, fitted_ru[:, 1], 'y', label='B (Antigène)')\n",
    "plt.plot(t, fitted_ru[:, 2], 'g', label='C (Complexe)')\n",
    "plt.legend()\n",
    "plt.xlabel('Temps')\n",
    "plt.ylabel('Fluorescence (RU)')\n",
    "plt.title('Ajustement du modèle aux données de fluorescence')\n",
    "plt.show()"
   ]
  },
  {
   "cell_type": "code",
   "execution_count": 73,
   "metadata": {},
   "outputs": [
    {
     "name": "stdout",
     "output_type": "stream",
     "text": [
      "kon: 1.0000e+05\n",
      "koff: 1.0000e-02\n",
      "A0: 2.0000e-05\n",
      "B0: 3.0000e-06\n"
     ]
    }
   ],
   "source": [
    "for name, param in result.params.items():\n",
    "    value = param.value\n",
    "\n",
    "    print(f\"{name}: {value:.4e}\")\n",
    "    "
   ]
  },
  {
   "cell_type": "code",
   "execution_count": null,
   "metadata": {},
   "outputs": [],
   "source": []
  }
 ],
 "metadata": {
  "kernelspec": {
   "display_name": "base",
   "language": "python",
   "name": "python3"
  },
  "language_info": {
   "codemirror_mode": {
    "name": "ipython",
    "version": 3
   },
   "file_extension": ".py",
   "mimetype": "text/x-python",
   "name": "python",
   "nbconvert_exporter": "python",
   "pygments_lexer": "ipython3",
   "version": "3.10.6"
  }
 },
 "nbformat": 4,
 "nbformat_minor": 2
}
