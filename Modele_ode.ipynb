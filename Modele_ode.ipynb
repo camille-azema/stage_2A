{
 "cells": [
  {
   "cell_type": "markdown",
   "metadata": {},
   "source": [
    "# Détermination des coefficients d'association et de dissociation"
   ]
  },
  {
   "cell_type": "markdown",
   "metadata": {},
   "source": [
    "#### Importation données"
   ]
  },
  {
   "cell_type": "code",
   "execution_count": 3,
   "metadata": {},
   "outputs": [],
   "source": [
    "import pandas as pd\n",
    "import numpy as np\n",
    "from scipy.integrate import odeint, solve_ivp\n",
    "from lmfit import minimize, Parameters, report_fit, Minimizer\n",
    "import matplotlib.pyplot as plt"
   ]
  },
  {
   "cell_type": "code",
   "execution_count": 4,
   "metadata": {},
   "outputs": [],
   "source": [
    "d = pd.read_excel(r'\\Users\\camil\\Documents\\IMT\\2A\\Stage_ingénierie\\Notebook\\Kon_18-04-2024.xlsx')\n",
    "t = d['Time points (min)'].values\n",
    "dt = d['Luminescence ligne 1'].values\n",
    "dt2 = d['Luminescence ligne 2'].values\n",
    "dt3 = d['Luminescence ligne 3'].values\n",
    "dt4 = d['Luminescence ligne 4'].values\n",
    "dt5 = d['Luminescence ligne 5'].values\n",
    "dt6 = d['Luminescence ligne 6'].values\n",
    "dt7 = d['Luminescence ligne 7'].values\n",
    "dt8 = d['Luminescence ligne 8'].values"
   ]
  },
  {
   "cell_type": "markdown",
   "metadata": {},
   "source": [
    "#### Système d'équations différentielles à résoudre"
   ]
  },
  {
   "cell_type": "code",
   "execution_count": 5,
   "metadata": {},
   "outputs": [],
   "source": [
    "# Fonction décrivant la cinétique de formation du complexe\n",
    "def model(y, t, kon, koff):\n",
    "    A, B, C = y\n",
    "\n",
    "    dAdt = -kon * A * B + koff * C\n",
    "    dBdt = -kon * A * B + koff * C\n",
    "    dCdt = kon * A * B - koff * C\n",
    "\n",
    "    return [dAdt, dBdt, dCdt]"
   ]
  },
  {
   "cell_type": "code",
   "execution_count": 6,
   "metadata": {},
   "outputs": [],
   "source": [
    "# Fonction objectif à minimiser\n",
    "def objective(params, t, data):\n",
    "    kon = params['kon'].value\n",
    "    koff = params['koff'].value\n",
    "\n",
    "    # Concentrations initiales\n",
    "    A0 = params['A0'].value\n",
    "    B0 = params['B0'].value  \n",
    "    alpha = params['alpha'].value\n",
    "    beta = params['beta'].value\n",
    "\n",
    "    # Conditions initiales\n",
    "    y0 = [A0, B0, 0]  \n",
    "\n",
    "    sol = odeint(model, y0, t, args=(kon, koff))\n",
    "    \n",
    "    solution = sol[:, 2]\n",
    "\n",
    "    alpha_solution = alpha * solution\n",
    "    model_value = alpha_solution + beta\n",
    "    \n",
    "    return model_value"
   ]
  },
  {
   "cell_type": "code",
   "execution_count": 7,
   "metadata": {},
   "outputs": [],
   "source": [
    "def residu(params, t, data):\n",
    "    try:\n",
    "        model_values = objective(params, t, data)\n",
    "        if np.isnan(model_values).any() or np.isinf(model_values).any():\n",
    "            print(\"NaN ou Inf détecté dans les valeurs du modèle\")\n",
    "            return np.full_like(data, 1e12)  # Retourne une pénalité élevée\n",
    "        \n",
    "        residuals = (model_values - data).ravel()\n",
    "        return residuals\n",
    "    \n",
    "    except Exception as e:\n",
    "        print(f\"Erreur dans la fonction residu : {e}\")\n",
    "\n",
    "        return np.full_like(data, 1e12)"
   ]
  },
  {
   "cell_type": "markdown",
   "metadata": {},
   "source": [
    "#### Paramètres initiaux"
   ]
  },
  {
   "cell_type": "code",
   "execution_count": 8,
   "metadata": {},
   "outputs": [],
   "source": [
    "params = Parameters()\n",
    "params.add('alpha', value=1e3, min=0, max=1e5)\n",
    "params.add('beta', value=1, min=0, max=1e2)\n",
    "params.add('kon', value=1e5, min=1e3, max=1e7)  \n",
    "params.add('koff', value=1e-2, min=1e-4, max=1)  \n",
    "params.add('A0', value=1e-6, min=1e-9, max=1e-4)  \n",
    "params.add('B0', value=2e-6, min=1e-9, max=1e-4)  "
   ]
  },
  {
   "cell_type": "markdown",
   "metadata": {},
   "source": [
    "#### Calcul des kon et koff"
   ]
  },
  {
   "cell_type": "code",
   "execution_count": 16,
   "metadata": {},
   "outputs": [
    {
     "name": "stderr",
     "output_type": "stream",
     "text": [
      "c:\\Users\\camil\\AppData\\Local\\Programs\\Python\\Python310\\lib\\site-packages\\scipy\\integrate\\_odepack_py.py:248: ODEintWarning: Excess work done on this call (perhaps wrong Dfun type). Run with full_output = 1 to get quantitative information.\n",
      "  warnings.warn(warning_msg, ODEintWarning)\n"
     ]
    },
    {
     "name": "stdout",
     "output_type": "stream",
     "text": [
      "[[Fit Statistics]]\n",
      "    # fitting method   = differential_evolution\n",
      "    # function evals   = 10087\n",
      "    # data points      = 12\n",
      "    # variables        = 6\n",
      "    chi-square         = 1.200e-249\n",
      "    reduced chi-square = 0.00000000\n",
      "    Akaike info crit   = -6895.75528\n",
      "    Bayesian info crit = -6892.84584\n",
      "##  Warning: uncertainties could not be estimated:\n",
      "    this fitting method does not natively calculate uncertainties\n",
      "    and numdifftools is not installed for lmfit to do this. Use\n",
      "    `pip install numdifftools` for lmfit to estimate uncertainties\n",
      "    with this fitting method.\n",
      "[[Variables]]\n",
      "    alpha:  0.00000000 (init = 1000)\n",
      "    beta:   0.00000000 (init = 1)\n",
      "    kon:    9914116.46 (init = 100000)\n",
      "    koff:   0.32444937 (init = 0.01)\n",
      "    A0:     4.6958e-05 (init = 1e-06)\n",
      "    B0:     3.4232e-05 (init = 2e-06)\n",
      "None\n"
     ]
    },
    {
     "name": "stderr",
     "output_type": "stream",
     "text": [
      "c:\\Users\\camil\\AppData\\Local\\Programs\\Python\\Python310\\lib\\site-packages\\lmfit\\minimizer.py:133: RuntimeWarning: overflow encountered in multiply\n",
      "  return (r*r).sum()\n"
     ]
    }
   ],
   "source": [
    "# Exécution de l'optimisation avec les données simplifiées\n",
    "minimizer = Minimizer(objective, params, fcn_args=(t, dt6))\n",
    "result = minimizer.minimize(method =\"differential_evolution\")\n",
    "fitted_ru = objective(result.params, t, dt6)\n",
    "\n",
    "# Vérification du succès de l'optimisation\n",
    "#print(f\"Optimization success: {result.success}\")\n",
    "print(report_fit(result))"
   ]
  },
  {
   "cell_type": "code",
   "execution_count": 19,
   "metadata": {},
   "outputs": [
    {
     "data": {
      "image/png": "[encoded data removed]",
      "text/plain": [
       "<Figure size 1000x600 with 1 Axes>"
      ]
     },
     "metadata": {},
     "output_type": "display_data"
    }
   ],
   "source": [
    "plt.figure(figsize=(10,6))\n",
    "plt.plot(t,dt6, 'o', label='Données expérimentales de fluorescence(RU)')\n",
    "plt.plot(t, fitted_ru, 'r', label='Modèle calculé')\n",
    "plt.legend()\n",
    "plt.xlabel('Temps')\n",
    "plt.ylabel('Bioluominescence (RU)')\n",
    "plt.title('Ajustement du modèle aux données de fluorescence')\n",
    "plt.show()"
   ]
  },
  {
   "cell_type": "markdown",
   "metadata": {},
   "source": [
    "#### Affichage des résultats"
   ]
  },
  {
   "cell_type": "code",
   "execution_count": 17,
   "metadata": {},
   "outputs": [
    {
     "name": "stdout",
     "output_type": "stream",
     "text": [
      "alpha: 0.0000e+00\n",
      "beta: 0.0000e+00\n",
      "kon: 9.9141e+06\n",
      "koff: 3.2445e-01\n",
      "A0: 4.6958e-05\n",
      "B0: 3.4232e-05\n"
     ]
    }
   ],
   "source": [
    "for name, param in result.params.items():\n",
    "    value = param.value\n",
    "\n",
    "    print(f\"{name}: {value:.4e}\")"
   ]
  },
  {
   "cell_type": "code",
   "execution_count": null,
   "metadata": {},
   "outputs": [],
   "source": []
  }
 ],
 "metadata": {
  "kernelspec": {
   "display_name": "base",
   "language": "python",
   "name": "python3"
  },
  "language_info": {
   "codemirror_mode": {
    "name": "ipython",
    "version": 3
   },
   "file_extension": ".py",
   "mimetype": "text/x-python",
   "name": "python",
   "nbconvert_exporter": "python",
   "pygments_lexer": "ipython3",
   "version": "3.10.6"
  }
 },
 "nbformat": 4,
 "nbformat_minor": 2
}
